{
 "cells": [
  {
   "cell_type": "markdown",
   "metadata": {},
   "source": [
    "# This is my code for the LSU REU. This WILL NOT run from this notebook. It is merely a copy of the work I did. The code only runs if you are logged onto the LIGO servers, which requires special access."
   ]
  },
  {
   "cell_type": "markdown",
   "metadata": {},
   "source": [
    "# Investigation of Noise Transients in the Advanced LIGO Calibration Model"
   ]
  },
  {
   "cell_type": "code",
   "execution_count": null,
   "metadata": {
    "collapsed": false
   },
   "outputs": [],
   "source": [
    "import gwpy\n",
    "from matplotlib import use\n",
    "use('Agg')\n",
    "from gwpy.timeseries import TimeSeries\n",
    "from gwpy.timeseries import TimeSeriesDict\n",
    "from gwpy.plotter import TimeSeriesPlot\n",
    "from gwpy.plotter import FrequencySeriesPlot\n",
    "import matplotlib.pyplot as plt\n",
    "import matplotlib as mpl\n",
    "import numpy as np\n",
    "%matplotlib inline\n",
    "mpl.rcParams['agg.path.chunksize'] = 10000"
   ]
  },
  {
   "cell_type": "markdown",
   "metadata": {},
   "source": [
    "# Import calibration channels, injection signals"
   ]
  },
  {
   "cell_type": "code",
   "execution_count": null,
   "metadata": {
    "collapsed": true
   },
   "outputs": [],
   "source": [
    "IFO = 'L1'\n",
    "start_time = 1168605028 \n",
    "end_time = start_time + 1024\n",
    "\n",
    "    \n",
    "\n",
    "main_chanlist = [IFO + ':CAL-DARM_ERR_WHITEN_OUT_DBL_DQ',\n",
    "                     IFO + ':CAL-PCALY_RX_PD_OUT_DQ',\n",
    "                     IFO + ':LSC-CAL_LINE_SUM_DQ',\n",
    "                     IFO + ':SUS-ETMY_L3_CAL_LINE_OUT_DQ',\n",
    "                     IFO + ':GDS-CALIB_STRAIN']\n",
    "    \n",
    "main_chan_data = TimeSeriesDict.fetch(main_chanlist, start_time, end_time, verify=True, verbose=True)\n",
    "\n",
    "\n",
    "#uncalibrated digital signal from photodetector\n",
    "llo_DARMERR = main_chan_data[IFO + ':CAL-DARM_ERR_WHITEN_OUT_DBL_DQ']\n",
    "#photon calibrator injection signal\n",
    "llo_PCALY = main_chan_data[IFO + ':CAL-PCALY_RX_PD_OUT_DQ']\n",
    "#control loop injection signal\n",
    "llo_DARMInj = main_chan_data[IFO + ':LSC-CAL_LINE_SUM_DQ']\n",
    "#electrostatic drive injection signal\n",
    "llo_ESD = main_chan_data[IFO + ':SUS-ETMY_L3_CAL_LINE_OUT_DQ']\n",
    "#calibrated h(t)\n",
    "llo_STRAIN = main_chan_data[IFO + ':GDS-CALIB_STRAIN']\n",
    "\n",
    "\n",
    "#need to change the units, this line has the units of * and it causes errors later on if you don't set them to none\n",
    "llo_DARMInj.override_unit(None) "
   ]
  },
  {
   "cell_type": "markdown",
   "metadata": {},
   "source": [
    "# Get ratio channels"
   ]
  },
  {
   "cell_type": "code",
   "execution_count": null,
   "metadata": {
    "collapsed": true
   },
   "outputs": [],
   "source": [
    "\n",
    "CAL_chanList = [IFO + ':CAL-CS_TDEP_PCALY_LINE1_COMPLEX_RATIO1_REALOUT',\n",
    "                IFO + ':CAL-CS_TDEP_PCALY_LINE1_COMPLEX_RATIO1_IMAGOUT',\n",
    "               IFO + ':CAL-CS_TDEP_PCALY_LINE2_COMPLEX_RATIO1_REALOUT',\n",
    "                IFO + ':CAL-CS_TDEP_PCALY_LINE2_COMPLEX_RATIO1_IMAGOUT',\n",
    "               IFO + ':CAL-CS_TDEP_PCALY_LINE3_COMPLEX_RATIO1_REALOUT',\n",
    "                IFO + ':CAL-CS_TDEP_PCALY_LINE3_COMPLEX_RATIO1_IMAGOUT',\n",
    "               IFO + ':CAL-CS_TDEP_DARM_LINE1_COMPLEX_RATIO1_REALOUT',\n",
    "                IFO + ':CAL-CS_TDEP_DARM_LINE1_COMPLEX_RATIO1_IMAGOUT',\n",
    "               IFO + ':CAL-CS_TDEP_SUS_LINE1_COMPLEX_RATIO1_REALOUT',\n",
    "               IFO + ':CAL-CS_TDEP_SUS_LINE1_COMPLEX_RATIO1_IMAGOUT']\n",
    "\n",
    "\n",
    "\n",
    "#### Get official ratios ####\n",
    "CAL_data = TimeSeriesDict.fetch(CAL_chanList, start_time, end_time, verify=True, verbose=True)\n",
    "\n",
    "PCALY1_ACT_RATIO_R = CAL_data[IFO + ':CAL-CS_TDEP_PCALY_LINE1_COMPLEX_RATIO1_REALOUT']\n",
    "PCALY1_ACT_RATIO_I = CAL_data[IFO + ':CAL-CS_TDEP_PCALY_LINE1_COMPLEX_RATIO1_IMAGOUT']\n",
    "\n",
    "PCALY2_ACT_RATIO_R = CAL_data[IFO + ':CAL-CS_TDEP_PCALY_LINE2_COMPLEX_RATIO1_REALOUT']\n",
    "PCALY2_ACT_RATIO_I = CAL_data[IFO + ':CAL-CS_TDEP_PCALY_LINE2_COMPLEX_RATIO1_IMAGOUT']\n",
    "\n",
    "PCALY3_ACT_RATIO_R = CAL_data[IFO + ':CAL-CS_TDEP_PCALY_LINE3_COMPLEX_RATIO1_REALOUT']\n",
    "PCALY3_ACT_RATIO_I = CAL_data[IFO + ':CAL-CS_TDEP_PCALY_LINE3_COMPLEX_RATIO1_IMAGOUT']\n",
    "\n",
    "DARM1_ACT_RATIO_R = CAL_data[IFO + ':CAL-CS_TDEP_DARM_LINE1_COMPLEX_RATIO1_REALOUT']\n",
    "DARM1_ACT_RATIO_I = CAL_data[IFO + ':CAL-CS_TDEP_DARM_LINE1_COMPLEX_RATIO1_IMAGOUT']\n",
    "\n",
    "ESD1_ACT_RATIO_R = CAL_data[IFO + ':CAL-CS_TDEP_SUS_LINE1_COMPLEX_RATIO1_REALOUT']\n",
    "ESD1_ACT_RATIO_I = CAL_data[IFO + ':CAL-CS_TDEP_SUS_LINE1_COMPLEX_RATIO1_IMAGOUT']\n",
    "\n",
    "#### Get official TDep Parameters ####\n",
    "\n",
    "CAL_TDep_chanList = [IFO + ':CAL-CS_TDEP_KAPPA_TST_REAL_INMON',\n",
    "                    IFO + ':CAL-CS_TDEP_KAPPA_TST_IMAG_INMON',\n",
    "                    IFO + ':CAL-CS_TDEP_A_REAL_INMON',\n",
    "                    IFO + ':CAL-CS_TDEP_A_IMAG_INMON',\n",
    "                    IFO + ':CAL-CS_TDEP_KAPPA_PU_REAL_INMON',\n",
    "                    IFO + ':CAL-CS_TDEP_KAPPA_PU_IMAG_INMON',\n",
    "                    IFO + ':CAL-CS_TDEP_KAPPA_C_INMON',\n",
    "                    IFO + ':CAL-CS_TDEP_F_C_INMON']\n",
    "\n",
    "CAL_TDep_data = TimeSeriesDict.fetch(CAL_TDep_chanList, start_time, end_time, verify=True, verbose=True)\n",
    "\n",
    "KT_ACT_R = CAL_TDep_data[IFO + ':CAL-CS_TDEP_KAPPA_TST_REAL_INMON']\n",
    "KT_ACT_I = CAL_TDep_data[IFO + ':CAL-CS_TDEP_KAPPA_TST_IMAG_INMON']\n",
    "A_ACT_R = CAL_TDep_data[IFO + ':CAL-CS_TDEP_A_REAL_INMON']\n",
    "A_ACT_I = CAL_TDep_data[IFO + ':CAL-CS_TDEP_A_IMAG_INMON']\n",
    "KPU_ACT_R = CAL_TDep_data[IFO + ':CAL-CS_TDEP_KAPPA_PU_REAL_INMON']\n",
    "KPU_ACT_I = CAL_TDep_data[IFO + ':CAL-CS_TDEP_KAPPA_PU_IMAG_INMON']\n",
    "KC_ACT = CAL_TDep_data[IFO + ':CAL-CS_TDEP_KAPPA_C_INMON']\n",
    "FCC_ACT = CAL_TDep_data[IFO + ':CAL-CS_TDEP_F_C_INMON']"
   ]
  },
  {
   "cell_type": "markdown",
   "metadata": {},
   "source": [
    "# Get EPIC channels"
   ]
  },
  {
   "cell_type": "code",
   "execution_count": null,
   "metadata": {
    "collapsed": true
   },
   "outputs": [],
   "source": [
    "def getEPICs(start_time, end_time):\n",
    "    \n",
    "    EP_chanList = [IFO + ':CAL-CS_TDEP_REF_INVA_CLGRATIO_TST_REAL',\n",
    "                   IFO + ':CAL-CS_TDEP_REF_INVA_CLGRATIO_TST_IMAG',\n",
    "                   IFO + ':CAL-CS_TDEP_REF_CLGRATIO_CTRL_REAL',\n",
    "                   IFO + ':CAL-CS_TDEP_REF_CLGRATIO_CTRL_IMAG',\n",
    "                   IFO + ':CAL-CS_TDEP_DARM_LINE1_REF_A_USUM_INV_REAL',\n",
    "                   IFO + ':CAL-CS_TDEP_DARM_LINE1_REF_A_USUM_INV_IMAG',\n",
    "                   IFO + ':CAL-CS_TDEP_DARM_LINE1_REF_A_TST_REAL',\n",
    "                   IFO + ':CAL-CS_TDEP_DARM_LINE1_REF_A_TST_IMAG',\n",
    "                   IFO + ':CAL-CS_TDEP_DARM_LINE1_REF_A_USUM_REAL',\n",
    "                   IFO + ':CAL-CS_TDEP_DARM_LINE1_REF_A_USUM_IMAG',\n",
    "                   IFO + ':CAL-CS_TDEP_PCALY_LINE2_REF_C_NOCAVPOLE_REAL',\n",
    "                   IFO + ':CAL-CS_TDEP_PCALY_LINE2_REF_C_NOCAVPOLE_IMAG',\n",
    "                   IFO + ':CAL-CS_TDEP_PCALY_LINE2_REF_D_REAL',\n",
    "                   IFO + ':CAL-CS_TDEP_PCALY_LINE2_REF_D_IMAG',\n",
    "                   IFO + ':CAL-CS_TDEP_PCALY_LINE2_REF_A_TST_REAL',\n",
    "                   IFO + ':CAL-CS_TDEP_PCALY_LINE2_REF_A_TST_IMAG',\n",
    "                   IFO + ':CAL-CS_TDEP_PCALY_LINE2_REF_A_USUM_REAL',\n",
    "                   IFO + ':CAL-CS_TDEP_PCALY_LINE2_REF_A_USUM_IMAG']\n",
    "    \n",
    "    EP_data = TimeSeriesDict.fetch(EP_chanList, start_time, end_time, verify=True, verbose=True)\n",
    "    \n",
    "    for chan in EP_chanList:\n",
    "        if chan == EP_chanList[0]:\n",
    "            EP1_R = EP_data[chan].median().value\n",
    "        elif chan == EP_chanList[1]:\n",
    "            EP1_I = EP_data[chan].median().value\n",
    "        elif chan == EP_chanList[2]:\n",
    "            EP2_R = EP_data[chan].median().value\n",
    "        elif chan == EP_chanList[3]:\n",
    "            EP2_I = EP_data[chan].median().value\n",
    "        elif chan == EP_chanList[4]:\n",
    "            EP3_R = EP_data[chan].median().value\n",
    "        elif chan == EP_chanList[5]:\n",
    "            EP3_I = EP_data[chan].median().value\n",
    "        elif chan == EP_chanList[6]:\n",
    "            EP4_R = EP_data[chan].median().value\n",
    "        elif chan == EP_chanList[7]:\n",
    "            EP4_I = EP_data[chan].median().value\n",
    "        elif chan == EP_chanList[8]:\n",
    "            EP5_R = EP_data[chan].median().value\n",
    "        elif chan == EP_chanList[9]:\n",
    "            EP5_I = EP_data[chan].median().value\n",
    "        elif chan == EP_chanList[10]:\n",
    "            EP6_R = EP_data[chan].median().value\n",
    "        elif chan == EP_chanList[11]:\n",
    "            EP6_I = EP_data[chan].median().value\n",
    "        elif chan == EP_chanList[12]:\n",
    "            EP7_R = EP_data[chan].median().value\n",
    "        elif chan == EP_chanList[13]:\n",
    "            EP7_I = EP_data[chan].median().value\n",
    "        elif chan == EP_chanList[14]:\n",
    "            EP8_R = EP_data[chan].median().value\n",
    "        elif chan == EP_chanList[15]:\n",
    "            EP8_I = EP_data[chan].median().value\n",
    "        elif chan == EP_chanList[16]:\n",
    "            EP9_R = EP_data[chan].median().value\n",
    "        elif chan == EP_chanList[17]:\n",
    "            EP9_I = EP_data[chan].median().value        \n",
    "        \n",
    "    return EP1_R, EP1_I, EP2_R, EP2_I, EP3_R, EP3_I, EP4_R, EP4_I, EP5_R, EP5_I, EP6_R, EP6_I, EP7_R, EP7_I, EP8_R, EP8_I, EP9_R, EP9_I\n",
    " \n",
    "\n",
    "#### Get EPICs Values ####\n",
    "print(\"Getting EPICs values\")\n",
    "[EP1_R, EP1_I, EP2_R, EP2_I, EP3_R, EP3_I, EP4_R, EP4_I, EP5_R, EP5_I, EP6_R, EP6_I, EP7_R, EP7_I, EP8_R, EP8_I, EP9_R, EP9_I] = getEPICs(start_time, end_time)\n",
    "print(\"Done.\")"
   ]
  },
  {
   "cell_type": "markdown",
   "metadata": {},
   "source": [
    "# Get line frequencies"
   ]
  },
  {
   "cell_type": "code",
   "execution_count": null,
   "metadata": {
    "collapsed": true
   },
   "outputs": [],
   "source": [
    "def getCalLines(start_time, end_time):\n",
    "    \n",
    "    cal_line_chans = [IFO + ':CAL-CS_TDEP_PCALY_LINE1_COMPARISON_OSC_FREQ', \n",
    "                     IFO + ':CAL-CS_TDEP_PCALY_LINE2_COMPARISON_OSC_FREQ',\n",
    "                     IFO + ':CAL-CS_TDEP_PCALY_LINE3_COMPARISON_OSC_FREQ',\n",
    "                     IFO + ':CAL-CS_TDEP_DARM_LINE1_COMPARISON_OSC_FREQ',\n",
    "                     IFO + ':CAL-CS_TDEP_SUS_LINE1_SYNCED_OSC_FREQ']\n",
    "    \n",
    "    cal_line_data = TimeSeriesDict.fetch(cal_line_chans, start_time, end_time, verify=True, verbose=True)\n",
    "    \n",
    "    for line_chan in cal_line_chans:\n",
    "        ### If the median and mean vary by more than +- 0.01, give warning\n",
    "        if np.abs(cal_line_data[line_chan].median().value - cal_line_data[line_chan].mean().value) >= 0.01:\n",
    "            warnings.warn('Value of %s changes appreciably in the data.' % (line_chan))\n",
    "            \n",
    "        if line_chan == cal_line_chans[0]:\n",
    "            F_PCALY1 = cal_line_data[line_chan].median().value\n",
    "        elif line_chan == cal_line_chans[1]:\n",
    "            F_PCALY2 = cal_line_data[line_chan].median().value\n",
    "        elif line_chan == cal_line_chans[2]:\n",
    "            F_PCALY3 = cal_line_data[line_chan].median().value\n",
    "        elif line_chan == cal_line_chans[3]:\n",
    "            F_DARM1 = cal_line_data[line_chan].median().value\n",
    "        elif line_chan == cal_line_chans[4]:\n",
    "            F_ESD1 = cal_line_data[line_chan].median().value\n",
    "            \n",
    "    return F_PCALY1, F_PCALY2, F_PCALY3, F_DARM1, F_ESD1\n",
    "\n",
    "#### Get calibration line frequencies ####\n",
    "print(\"Getting calibrational line frequencies..\")\n",
    "[F_PCALY1, F_PCALY2, F_PCALY3, F_DARM1, F_ESD1] = getCalLines(start_time, end_time)\n"
   ]
  },
  {
   "cell_type": "markdown",
   "metadata": {},
   "source": [
    "# Create function to perform demodulation"
   ]
  },
  {
   "cell_type": "code",
   "execution_count": null,
   "metadata": {
    "collapsed": true
   },
   "outputs": [],
   "source": [
    "def demodulate(data, f_demod, bw, sampling_frequency, resample_frequency):\n",
    "    \n",
    "    data.override_unit(None)\n",
    "    \n",
    "    #bandpassing\n",
    "    \n",
    "    data_bp = data.bandpass(f_demod - bw, f_demod + bw,6)\n",
    "    \n",
    "    #homodyning\n",
    "    \n",
    "    t = np.arange(start_time, end_time, 1./sampling_frequency)\n",
    "    data_hd = data_bp * np.exp(-2 * np.pi * 1j * f_demod * t)\n",
    "    \n",
    "    #lowpass filtering\n",
    "    data_lp = data_hd.lowpass(bw,4)\n",
    "    data_resampled = data_lp.resample(resample_frequency)\n",
    "    \n",
    "    '''\n",
    "    asd = data.asd(16,8)\n",
    "    plot = FrequencySeriesPlot(asd)\n",
    "    plot1 = plot.gca()\n",
    "    plot1.set_title('ASD: DARM Error')\n",
    "    plot1.set_xscale('linear')\n",
    "    plot1.set_xlim(0,30)\n",
    "    #plot1.set_ylim(1e-14, 1e-5)\n",
    "    '''\n",
    "\n",
    "    \n",
    "    return 2*data_resampled\n",
    "\n",
    "    \n"
   ]
  },
  {
   "cell_type": "markdown",
   "metadata": {},
   "source": [
    "# Create function for phase shifting signals"
   ]
  },
  {
   "cell_type": "code",
   "execution_count": null,
   "metadata": {
    "collapsed": true
   },
   "outputs": [],
   "source": [
    "def phaseshift(ratio_I_mine, ratio_R_mine, ratio_I_actual, ratio_R_actual):\n",
    "    \n",
    "    #calculate angles for both my data and the actual from channel\n",
    "    \n",
    "    phi_mine = np.median(np.arctan(ratio_I_mine/ratio_R_mine).value)\n",
    "    phi_actual = np.median(np.arctan(ratio_I_actual/ratio_R_actual).value)\n",
    "    \n",
    "    dt_phi = phi_actual - phi_mine\n",
    "\n",
    "    \n",
    "    sigrot_R = np.cos(dt_phi)*ratio_R_mine - np.sin(dt_phi)*ratio_I_mine \n",
    "    sigrot_I = np.sin(dt_phi)*ratio_R_mine + np.cos(dt_phi)*ratio_I_mine\n",
    "    \n",
    "    \n",
    "    #plot to see how shifted ratios match up with actual ratio values from imported channel\n",
    "    plt.scatter(ratio_R_actual, ratio_I_actual)\n",
    "    plt.scatter(sigrot_R, sigrot_I)\n",
    "    plt.show()\n",
    "    \n",
    "    print(sigrot_R, \"phase shifted real part\")\n",
    "    print(sigrot_I, \"phase shifted imaginary part\")\n",
    "    return sigrot_R, sigrot_I\n",
    "    \n"
   ]
  },
  {
   "cell_type": "markdown",
   "metadata": {},
   "source": [
    "# Demodulate signals"
   ]
  },
  {
   "cell_type": "code",
   "execution_count": null,
   "metadata": {
    "collapsed": true
   },
   "outputs": [],
   "source": [
    "llo_PCALY_f1 = demodulate(llo_PCALY, F_PCALY1, 0.3, 16384, 16) / (F_PCALY1)**2\n",
    "llo_PCALY_f2 = demodulate(llo_PCALY, F_PCALY2, 0.3, 16384, 16) / (F_PCALY2)**2\n",
    "llo_PCALY_f3 = demodulate(llo_PCALY, F_PCALY3, 1, 16384, 16) / (F_PCALY3)**2\n",
    "llo_ESD_f1 = demodulate(llo_ESD, F_ESD1, 0.3, 512, 16)\n",
    "llo_DARMInj_f1 = demodulate(llo_DARMInj, F_DARM1, 0.3, 16384, 16)\n",
    "\n",
    "llo_DARMERR_at_PCALY_f1 = demodulate(llo_DARMERR, F_PCALY1, 0.3, 16384, 16)\n",
    "llo_DARMERR_at_PCALY_f2 = demodulate(llo_DARMERR, F_PCALY2, 0.3, 16384, 16)\n",
    "llo_DARMERR_at_PCALY_f3 = demodulate(llo_DARMERR, F_PCALY3, 0.3, 16384, 16)\n",
    "llo_DARMERR_at_ESD_f1 = demodulate(llo_DARMERR, F_ESD1, 0.3, 16384, 16)\n",
    "llo_DARMERR_at_DARMInj_f1 = demodulate(llo_DARMERR, F_DARM1, 0.3, 16384, 16)"
   ]
  },
  {
   "cell_type": "markdown",
   "metadata": {},
   "source": [
    "# Calculate new phase shifted ratios"
   ]
  },
  {
   "cell_type": "code",
   "execution_count": null,
   "metadata": {
    "collapsed": true
   },
   "outputs": [],
   "source": [
    "PCALY1_R, PCALY1_I = phaseshift(np.imag(L1_PCALY1_RATIO), np.real(L1_PCALY1_RATIO), PCALY1_ACT_RATIO_I, PCALY1_ACT_RATIO_R)\n",
    "PCALY2_R, PCALY2_I = phaseshift(np.imag(L1_PCALY2_RATIO), np.real(L1_PCALY2_RATIO), PCALY2_ACT_RATIO_I, PCALY2_ACT_RATIO_R)\n",
    "PCALY3_R, PCALY3_I = phaseshift(np.imag(L1_PCALY3_RATIO), np.real(L1_PCALY3_RATIO), PCALY3_ACT_RATIO_I, PCALY3_ACT_RATIO_R)\n",
    "\n",
    "ESD_R, ESD_I = phaseshift(np.imag(L1_ESD_RATIO), np.real(L1_ESD_RATIO), ESD1_ACT_RATIO_I, ESD1_ACT_RATIO_R)\n",
    "\n",
    "DARMInj_R, DARMInj_I = phaseshift(np.imag(L1_DARMInj_RATIO), np.real(L1_DARMInj_RATIO), DARM1_ACT_RATIO_I, DARM1_ACT_RATIO_R)"
   ]
  },
  {
   "cell_type": "markdown",
   "metadata": {},
   "source": [
    "# Calculate the time-dependent calibration parameters"
   ]
  },
  {
   "cell_type": "code",
   "execution_count": null,
   "metadata": {
    "collapsed": true
   },
   "outputs": [],
   "source": [
    "#scaling factor used for calculating tdep actuation function k_pu\n",
    "A_f = -(DARMInj_R + DARMInj_I * 1j) * (PCALY1_R + PCALY1_I * 1j)**(-1) * (EP2_R + EP2_I * 1j)\n",
    "\n",
    "\n",
    "# k_tst, time - dependent correction factors for actuation function\n",
    "k_tst = (ESD_R + ESD_I * 1j) * (PCALY1_R + PCALY1_I*1j)**(-1) * (EP1_R + EP1_I*1j)\n",
    "k_pu = (EP3_R + EP3_I * 1J) * (A_f - (k_tst * (EP4_R + EP4_I * 1j)))\n",
    "\n",
    "\n",
    "#Complex value S\n",
    "S1 = 1 / (PCALY2_R + PCALY2_I * 1j)\n",
    "S2 = ((EP7_R + EP7_I * 1j) * ((k_tst * (EP8_R + EP8_I * 1j)) + (k_pu * (EP9_R + EP9_I * 1j))))\n",
    "S3 = (S1 - S2)**(-1)\n",
    "S = (1 / (EP6_R + EP6_I * 1j)) * (S3)\n",
    "\n",
    "#sensing function correction factor\n",
    "k_c = np.absolute(S)**2 / (np.real(S))\n",
    "\n",
    "#time-dependent coupled-cavity pole frequency\n",
    "f_cc = (-np.real(S) / np.imag(S)) * 331.3\n",
    "\n",
    "#real and imaginary parts for actuation scaling factors\n",
    "R_k_tst = np.real(k_tst)\n",
    "I_k_tst = np.imag(k_tst)\n",
    "\n",
    "R_k_pu = np.real(k_pu)\n",
    "I_k_pu = np.imag(k_pu)"
   ]
  },
  {
   "cell_type": "markdown",
   "metadata": {},
   "source": [
    "# Plot the tdep parameters"
   ]
  },
  {
   "cell_type": "code",
   "execution_count": null,
   "metadata": {
    "collapsed": true
   },
   "outputs": [],
   "source": [
    "## K_tst Real ##\n",
    "\n",
    "plot = TimeSeriesPlot(R_k_tst, label = 'calculated value')\n",
    "plot_Rktst = plot.gca()\n",
    "plot_Rktst.plot(KT_ACT_R, label = 'actual value')\n",
    "plot_Rktst.set_title('k${_{tst}}$ Real')\n",
    "plot_Rktst.set_ylabel('Correction value')\n",
    "plot_Rktst.legend()\n",
    "plot.show()"
   ]
  },
  {
   "cell_type": "code",
   "execution_count": null,
   "metadata": {
    "collapsed": true
   },
   "outputs": [],
   "source": [
    "## K_tst Imaginary ###\n",
    "\n",
    "plot1 = TimeSeriesPlot(I_k_tst, label = 'calculated value')\n",
    "plot_Iktst = plot1.gca()\n",
    "plot_Iktst.plot(KT_ACT_I, label = 'actual value')\n",
    "plot_Iktst.set_title('k${_{tst}}$ Imaginary')\n",
    "plot_Iktst.set_ylabel('Correction value')\n",
    "plot_Iktst.legend()\n",
    "plot.show()"
   ]
  },
  {
   "cell_type": "code",
   "execution_count": null,
   "metadata": {
    "collapsed": true
   },
   "outputs": [],
   "source": [
    "### K_pu Real ###\n",
    "\n",
    "\n",
    "plot2 = TimeSeriesPlot(R_k_pu, label = 'calculated value')\n",
    "plot_Rkpu = plot2.gca()\n",
    "plot_Rkpu.plot(KPU_ACT_R, label = 'actual value')\n",
    "plot_Rkpu.set_title('k${_{pu}}$ Real')\n",
    "plot_Rkpu.set_ylabel('Correction value')\n",
    "plot_Rkpu.set_ylim(0.6,1.08)\n",
    "plot_Rkpu.legend()"
   ]
  },
  {
   "cell_type": "code",
   "execution_count": null,
   "metadata": {
    "collapsed": true
   },
   "outputs": [],
   "source": [
    "### K_pu Imaginary ###\n",
    "\n",
    "\n",
    "plot3 = TimeSeriesPlot(I_k_pu, label = 'calculated value')\n",
    "plot_Ikpu = plot3.gca()\n",
    "plot_Ikpu.plot(KPU_ACT_I, label = 'actual value')\n",
    "plot_Ikpu.set_title('k${_{pu}}$ Imaginary')\n",
    "plot_Ikpu.set_ylabel('Correction value')\n",
    "plot_Ikpu.set_ylim(-0.2,0.1)\n",
    "plot_Ikpu.legend()"
   ]
  },
  {
   "cell_type": "code",
   "execution_count": null,
   "metadata": {
    "collapsed": true
   },
   "outputs": [],
   "source": [
    "### K_c ###\n",
    "\n",
    "plot4 = TimeSeriesPlot(k_c, label = 'calculated value')\n",
    "plot_kc = plot4.gca()\n",
    "plot_kc.plot(KC_ACT, label = 'actual value')\n",
    "plot_kc.set_title('k${_{c}}$')\n",
    "plot_kc.set_ylim(0.6,1.1)\n",
    "plot_kc.set_ylabel('Correction value')\n",
    "plot_kc.legend()\n",
    "print(k_c)"
   ]
  },
  {
   "cell_type": "code",
   "execution_count": null,
   "metadata": {
    "collapsed": true
   },
   "outputs": [],
   "source": [
    "## f_cc ##\n",
    "\n",
    "plot5 = TimeSeriesPlot(f_cc, label = 'calculated value')\n",
    "plot_fcc = plot5.gca()\n",
    "plot_fcc.plot(FCC_ACT, label = 'actual value')\n",
    "plot_fcc.set_ylim(200,600)\n",
    "plot_fcc.set_title('f${_{cc}}$')\n",
    "plot_fcc.set_ylabel('Frequency [Hz]')\n",
    "plot_fcc.legend()\n",
    "\n"
   ]
  },
  {
   "cell_type": "markdown",
   "metadata": {},
   "source": [
    "# Amplitude spectral density plot expressed in terms of gravitational wave strain."
   ]
  },
  {
   "cell_type": "code",
   "execution_count": null,
   "metadata": {
    "collapsed": true
   },
   "outputs": [],
   "source": [
    "start_time = 1186207218\n",
    "duration = 1024\n",
    "\n",
    "chanlist = ['H1:GDS-CALIB_STRAIN', 'L1:GDS-CALIB_STRAIN']\n",
    "\n",
    "hoft_data = TimeSeriesDict.fetch(chanlist, start_time, start_time + duration, verbose=True)\n",
    "\n",
    "h1_hoft = hoft_data[chanlist[0]]\n",
    "l1_hoft = hoft_data[chanlist[1]]\n",
    "\n",
    "\n",
    "\n",
    "h1_asd = h1_hoft.asd(32, 16)\n",
    "l1_asd = l1_hoft.asd(32, 16)\n",
    "\n",
    "plot = h1_asd.plot(label='LIGO-Hanford', color='gwpy:ligo-hanford')\n",
    "ax = plot.gca()\n",
    "ax.plot(l1_asd, label='LIGO-Livingston', color='gwpy:ligo-livingston')\n",
    "ax.set_xlim(10, 2000)\n",
    "ax.set_ylim(5e-25, 1e-18)\n",
    "#ax.set_ylabel('Hz^{1/2}')\n",
    "ax.set_title('H1, L1 Gravitational Wave Strain [h(t)]', fontsize=18)\n",
    "ax.set_xscale('linear')\n",
    "ax.legend()\n",
    "plot.show()"
   ]
  }
 ],
 "metadata": {
  "kernelspec": {
   "display_name": "Python 3",
   "language": "python",
   "name": "python3"
  },
  "language_info": {
   "codemirror_mode": {
    "name": "ipython",
    "version": 3
   },
   "file_extension": ".py",
   "mimetype": "text/x-python",
   "name": "python",
   "nbconvert_exporter": "python",
   "pygments_lexer": "ipython3",
   "version": "3.5.2"
  }
 },
 "nbformat": 4,
 "nbformat_minor": 2
}
